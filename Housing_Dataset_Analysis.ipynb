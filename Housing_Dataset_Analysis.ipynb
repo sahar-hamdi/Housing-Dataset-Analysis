{
 "cells": [
  {
   "cell_type": "code",
   "execution_count": 111,
   "id": "2c0e35e8",
   "metadata": {},
   "outputs": [],
   "source": [
    "import numpy as np\n",
    "import pandas as pd\n",
    "import seaborn as sns\n",
    "import matplotlib.pyplot as plt\n",
    "from sklearn.preprocessing import MinMaxScaler"
   ]
  },
  {
   "cell_type": "code",
   "execution_count": 2,
   "id": "da57490b",
   "metadata": {},
   "outputs": [],
   "source": [
    "housing_df = pd.read_csv('housing.csv')"
   ]
  },
  {
   "cell_type": "code",
   "execution_count": 3,
   "id": "ffb8147e",
   "metadata": {},
   "outputs": [
    {
     "data": {
      "text/html": [
       "<div>\n",
       "<style scoped>\n",
       "    .dataframe tbody tr th:only-of-type {\n",
       "        vertical-align: middle;\n",
       "    }\n",
       "\n",
       "    .dataframe tbody tr th {\n",
       "        vertical-align: top;\n",
       "    }\n",
       "\n",
       "    .dataframe thead th {\n",
       "        text-align: right;\n",
       "    }\n",
       "</style>\n",
       "<table border=\"1\" class=\"dataframe\">\n",
       "  <thead>\n",
       "    <tr style=\"text-align: right;\">\n",
       "      <th></th>\n",
       "      <th>longitude</th>\n",
       "      <th>latitude</th>\n",
       "      <th>housing_median_age</th>\n",
       "      <th>total_rooms</th>\n",
       "      <th>total_bedrooms</th>\n",
       "      <th>population</th>\n",
       "      <th>households</th>\n",
       "      <th>median_income</th>\n",
       "      <th>median_house_value</th>\n",
       "      <th>ocean_proximity</th>\n",
       "      <th>gender</th>\n",
       "    </tr>\n",
       "  </thead>\n",
       "  <tbody>\n",
       "    <tr>\n",
       "      <th>0</th>\n",
       "      <td>-122.23</td>\n",
       "      <td>37.88</td>\n",
       "      <td>41.0</td>\n",
       "      <td>880</td>\n",
       "      <td>129.0</td>\n",
       "      <td>322.0</td>\n",
       "      <td>126</td>\n",
       "      <td>8.3252</td>\n",
       "      <td>452600</td>\n",
       "      <td>NEAR BAY</td>\n",
       "      <td>male</td>\n",
       "    </tr>\n",
       "    <tr>\n",
       "      <th>1</th>\n",
       "      <td>-122.22</td>\n",
       "      <td>37.86</td>\n",
       "      <td>21.0</td>\n",
       "      <td>7099</td>\n",
       "      <td>1106.0</td>\n",
       "      <td>2401.0</td>\n",
       "      <td>1138</td>\n",
       "      <td>8.3014</td>\n",
       "      <td>358500</td>\n",
       "      <td>NEAR BAY</td>\n",
       "      <td>female</td>\n",
       "    </tr>\n",
       "    <tr>\n",
       "      <th>2</th>\n",
       "      <td>-122.24</td>\n",
       "      <td>37.85</td>\n",
       "      <td>52.0</td>\n",
       "      <td>1467</td>\n",
       "      <td>190.0</td>\n",
       "      <td>496.0</td>\n",
       "      <td>177</td>\n",
       "      <td>7.2574</td>\n",
       "      <td>352100</td>\n",
       "      <td>NEAR BAY</td>\n",
       "      <td>male</td>\n",
       "    </tr>\n",
       "    <tr>\n",
       "      <th>3</th>\n",
       "      <td>-122.25</td>\n",
       "      <td>37.85</td>\n",
       "      <td>52.0</td>\n",
       "      <td>1274</td>\n",
       "      <td>235.0</td>\n",
       "      <td>558.0</td>\n",
       "      <td>219</td>\n",
       "      <td>5.6431</td>\n",
       "      <td>341300</td>\n",
       "      <td>NEAR BAY</td>\n",
       "      <td>female</td>\n",
       "    </tr>\n",
       "    <tr>\n",
       "      <th>4</th>\n",
       "      <td>-122.25</td>\n",
       "      <td>37.85</td>\n",
       "      <td>NaN</td>\n",
       "      <td>1627</td>\n",
       "      <td>280.0</td>\n",
       "      <td>NaN</td>\n",
       "      <td>259</td>\n",
       "      <td>3.8462</td>\n",
       "      <td>342200</td>\n",
       "      <td>NEAR BAY</td>\n",
       "      <td>male</td>\n",
       "    </tr>\n",
       "    <tr>\n",
       "      <th>...</th>\n",
       "      <td>...</td>\n",
       "      <td>...</td>\n",
       "      <td>...</td>\n",
       "      <td>...</td>\n",
       "      <td>...</td>\n",
       "      <td>...</td>\n",
       "      <td>...</td>\n",
       "      <td>...</td>\n",
       "      <td>...</td>\n",
       "      <td>...</td>\n",
       "      <td>...</td>\n",
       "    </tr>\n",
       "    <tr>\n",
       "      <th>20635</th>\n",
       "      <td>-121.09</td>\n",
       "      <td>39.48</td>\n",
       "      <td>25.0</td>\n",
       "      <td>1665</td>\n",
       "      <td>374.0</td>\n",
       "      <td>845.0</td>\n",
       "      <td>330</td>\n",
       "      <td>1.5603</td>\n",
       "      <td>78100</td>\n",
       "      <td>INLAND</td>\n",
       "      <td>female</td>\n",
       "    </tr>\n",
       "    <tr>\n",
       "      <th>20636</th>\n",
       "      <td>-121.21</td>\n",
       "      <td>39.49</td>\n",
       "      <td>18.0</td>\n",
       "      <td>697</td>\n",
       "      <td>150.0</td>\n",
       "      <td>356.0</td>\n",
       "      <td>114</td>\n",
       "      <td>2.5568</td>\n",
       "      <td>77100</td>\n",
       "      <td>INLAND</td>\n",
       "      <td>male</td>\n",
       "    </tr>\n",
       "    <tr>\n",
       "      <th>20637</th>\n",
       "      <td>-121.22</td>\n",
       "      <td>39.43</td>\n",
       "      <td>17.0</td>\n",
       "      <td>2254</td>\n",
       "      <td>485.0</td>\n",
       "      <td>1007.0</td>\n",
       "      <td>433</td>\n",
       "      <td>1.7000</td>\n",
       "      <td>92300</td>\n",
       "      <td>INLAND</td>\n",
       "      <td>female</td>\n",
       "    </tr>\n",
       "    <tr>\n",
       "      <th>20638</th>\n",
       "      <td>-121.32</td>\n",
       "      <td>39.43</td>\n",
       "      <td>18.0</td>\n",
       "      <td>1860</td>\n",
       "      <td>409.0</td>\n",
       "      <td>741.0</td>\n",
       "      <td>349</td>\n",
       "      <td>1.8672</td>\n",
       "      <td>84700</td>\n",
       "      <td>INLAND</td>\n",
       "      <td>male</td>\n",
       "    </tr>\n",
       "    <tr>\n",
       "      <th>20639</th>\n",
       "      <td>-121.24</td>\n",
       "      <td>39.37</td>\n",
       "      <td>16.0</td>\n",
       "      <td>2785</td>\n",
       "      <td>616.0</td>\n",
       "      <td>1387.0</td>\n",
       "      <td>530</td>\n",
       "      <td>2.3886</td>\n",
       "      <td>89400</td>\n",
       "      <td>INLAND</td>\n",
       "      <td>female</td>\n",
       "    </tr>\n",
       "  </tbody>\n",
       "</table>\n",
       "<p>20640 rows × 11 columns</p>\n",
       "</div>"
      ],
      "text/plain": [
       "       longitude  latitude  housing_median_age  total_rooms  total_bedrooms  \\\n",
       "0        -122.23     37.88                41.0          880           129.0   \n",
       "1        -122.22     37.86                21.0         7099          1106.0   \n",
       "2        -122.24     37.85                52.0         1467           190.0   \n",
       "3        -122.25     37.85                52.0         1274           235.0   \n",
       "4        -122.25     37.85                 NaN         1627           280.0   \n",
       "...          ...       ...                 ...          ...             ...   \n",
       "20635    -121.09     39.48                25.0         1665           374.0   \n",
       "20636    -121.21     39.49                18.0          697           150.0   \n",
       "20637    -121.22     39.43                17.0         2254           485.0   \n",
       "20638    -121.32     39.43                18.0         1860           409.0   \n",
       "20639    -121.24     39.37                16.0         2785           616.0   \n",
       "\n",
       "       population households  median_income  median_house_value  \\\n",
       "0           322.0        126         8.3252              452600   \n",
       "1          2401.0       1138         8.3014              358500   \n",
       "2           496.0        177         7.2574              352100   \n",
       "3           558.0        219         5.6431              341300   \n",
       "4             NaN        259         3.8462              342200   \n",
       "...           ...        ...            ...                 ...   \n",
       "20635       845.0        330         1.5603               78100   \n",
       "20636       356.0        114         2.5568               77100   \n",
       "20637      1007.0        433         1.7000               92300   \n",
       "20638       741.0        349         1.8672               84700   \n",
       "20639      1387.0        530         2.3886               89400   \n",
       "\n",
       "      ocean_proximity  gender  \n",
       "0            NEAR BAY    male  \n",
       "1            NEAR BAY  female  \n",
       "2            NEAR BAY    male  \n",
       "3            NEAR BAY  female  \n",
       "4            NEAR BAY    male  \n",
       "...               ...     ...  \n",
       "20635          INLAND  female  \n",
       "20636          INLAND    male  \n",
       "20637          INLAND  female  \n",
       "20638          INLAND    male  \n",
       "20639          INLAND  female  \n",
       "\n",
       "[20640 rows x 11 columns]"
      ]
     },
     "execution_count": 3,
     "metadata": {},
     "output_type": "execute_result"
    }
   ],
   "source": [
    "housing_df"
   ]
  },
  {
   "attachments": {},
   "cell_type": "markdown",
   "id": "242caf63",
   "metadata": {},
   "source": [
    "**1-How many Rows and Columns are in the data?**"
   ]
  },
  {
   "cell_type": "code",
   "execution_count": 4,
   "id": "8f3af132",
   "metadata": {},
   "outputs": [
    {
     "data": {
      "text/html": [
       "<div>\n",
       "<style scoped>\n",
       "    .dataframe tbody tr th:only-of-type {\n",
       "        vertical-align: middle;\n",
       "    }\n",
       "\n",
       "    .dataframe tbody tr th {\n",
       "        vertical-align: top;\n",
       "    }\n",
       "\n",
       "    .dataframe thead th {\n",
       "        text-align: right;\n",
       "    }\n",
       "</style>\n",
       "<table border=\"1\" class=\"dataframe\">\n",
       "  <thead>\n",
       "    <tr style=\"text-align: right;\">\n",
       "      <th></th>\n",
       "      <th>0</th>\n",
       "      <th>1</th>\n",
       "      <th>2</th>\n",
       "      <th>3</th>\n",
       "      <th>4</th>\n",
       "    </tr>\n",
       "  </thead>\n",
       "  <tbody>\n",
       "    <tr>\n",
       "      <th>longitude</th>\n",
       "      <td>-122.23</td>\n",
       "      <td>-122.22</td>\n",
       "      <td>-122.24</td>\n",
       "      <td>-122.25</td>\n",
       "      <td>-122.25</td>\n",
       "    </tr>\n",
       "    <tr>\n",
       "      <th>latitude</th>\n",
       "      <td>37.88</td>\n",
       "      <td>37.86</td>\n",
       "      <td>37.85</td>\n",
       "      <td>37.85</td>\n",
       "      <td>37.85</td>\n",
       "    </tr>\n",
       "    <tr>\n",
       "      <th>housing_median_age</th>\n",
       "      <td>41.0</td>\n",
       "      <td>21.0</td>\n",
       "      <td>52.0</td>\n",
       "      <td>52.0</td>\n",
       "      <td>NaN</td>\n",
       "    </tr>\n",
       "    <tr>\n",
       "      <th>total_rooms</th>\n",
       "      <td>880</td>\n",
       "      <td>7099</td>\n",
       "      <td>1467</td>\n",
       "      <td>1274</td>\n",
       "      <td>1627</td>\n",
       "    </tr>\n",
       "    <tr>\n",
       "      <th>total_bedrooms</th>\n",
       "      <td>129.0</td>\n",
       "      <td>1106.0</td>\n",
       "      <td>190.0</td>\n",
       "      <td>235.0</td>\n",
       "      <td>280.0</td>\n",
       "    </tr>\n",
       "    <tr>\n",
       "      <th>population</th>\n",
       "      <td>322.0</td>\n",
       "      <td>2401.0</td>\n",
       "      <td>496.0</td>\n",
       "      <td>558.0</td>\n",
       "      <td>NaN</td>\n",
       "    </tr>\n",
       "    <tr>\n",
       "      <th>households</th>\n",
       "      <td>126</td>\n",
       "      <td>1138</td>\n",
       "      <td>177</td>\n",
       "      <td>219</td>\n",
       "      <td>259</td>\n",
       "    </tr>\n",
       "    <tr>\n",
       "      <th>median_income</th>\n",
       "      <td>8.3252</td>\n",
       "      <td>8.3014</td>\n",
       "      <td>7.2574</td>\n",
       "      <td>5.6431</td>\n",
       "      <td>3.8462</td>\n",
       "    </tr>\n",
       "    <tr>\n",
       "      <th>median_house_value</th>\n",
       "      <td>452600</td>\n",
       "      <td>358500</td>\n",
       "      <td>352100</td>\n",
       "      <td>341300</td>\n",
       "      <td>342200</td>\n",
       "    </tr>\n",
       "    <tr>\n",
       "      <th>ocean_proximity</th>\n",
       "      <td>NEAR BAY</td>\n",
       "      <td>NEAR BAY</td>\n",
       "      <td>NEAR BAY</td>\n",
       "      <td>NEAR BAY</td>\n",
       "      <td>NEAR BAY</td>\n",
       "    </tr>\n",
       "    <tr>\n",
       "      <th>gender</th>\n",
       "      <td>male</td>\n",
       "      <td>female</td>\n",
       "      <td>male</td>\n",
       "      <td>female</td>\n",
       "      <td>male</td>\n",
       "    </tr>\n",
       "  </tbody>\n",
       "</table>\n",
       "</div>"
      ],
      "text/plain": [
       "                           0         1         2         3         4\n",
       "longitude            -122.23   -122.22   -122.24   -122.25   -122.25\n",
       "latitude               37.88     37.86     37.85     37.85     37.85\n",
       "housing_median_age      41.0      21.0      52.0      52.0       NaN\n",
       "total_rooms              880      7099      1467      1274      1627\n",
       "total_bedrooms         129.0    1106.0     190.0     235.0     280.0\n",
       "population             322.0    2401.0     496.0     558.0       NaN\n",
       "households               126      1138       177       219       259\n",
       "median_income         8.3252    8.3014    7.2574    5.6431    3.8462\n",
       "median_house_value    452600    358500    352100    341300    342200\n",
       "ocean_proximity     NEAR BAY  NEAR BAY  NEAR BAY  NEAR BAY  NEAR BAY\n",
       "gender                  male    female      male    female      male"
      ]
     },
     "execution_count": 4,
     "metadata": {},
     "output_type": "execute_result"
    }
   ],
   "source": [
    "housing_df.head().T"
   ]
  },
  {
   "cell_type": "code",
   "execution_count": 5,
   "id": "1a0fd01f",
   "metadata": {},
   "outputs": [],
   "source": [
    "Rows = len(housing_df.axes[0])\n",
    "Columns = len(housing_df.axes[1])"
   ]
  },
  {
   "cell_type": "code",
   "execution_count": 6,
   "id": "f9d06317",
   "metadata": {},
   "outputs": [
    {
     "name": "stdout",
     "output_type": "stream",
     "text": [
      "Number of Rows:  20640\n",
      "Number of Columns:  11\n"
     ]
    }
   ],
   "source": [
    "print(\"Number of Rows: \", Rows)\n",
    "print(\"Number of Columns: \", Columns)"
   ]
  },
  {
   "cell_type": "code",
   "execution_count": 7,
   "id": "4dd60a39",
   "metadata": {},
   "outputs": [
    {
     "data": {
      "text/plain": [
       "(20640, 11)"
      ]
     },
     "execution_count": 7,
     "metadata": {},
     "output_type": "execute_result"
    }
   ],
   "source": [
    "housing_df.shape"
   ]
  },
  {
   "attachments": {},
   "cell_type": "markdown",
   "id": "a278e712",
   "metadata": {},
   "source": [
    "**2- How many NULL values are in each column?**"
   ]
  },
  {
   "cell_type": "code",
   "execution_count": 8,
   "id": "d5f501ef",
   "metadata": {},
   "outputs": [],
   "source": [
    "NumOfNULLvalues = housing_df.isna().sum()"
   ]
  },
  {
   "cell_type": "code",
   "execution_count": 9,
   "id": "c37a4b23",
   "metadata": {},
   "outputs": [
    {
     "data": {
      "text/plain": [
       "longitude                0\n",
       "latitude                 0\n",
       "housing_median_age     258\n",
       "total_rooms              0\n",
       "total_bedrooms        4882\n",
       "population              44\n",
       "households            1305\n",
       "median_income         2767\n",
       "median_house_value       0\n",
       "ocean_proximity          0\n",
       "gender                4020\n",
       "dtype: int64"
      ]
     },
     "execution_count": 9,
     "metadata": {},
     "output_type": "execute_result"
    }
   ],
   "source": [
    "NumOfNULLvalues"
   ]
  },
  {
   "attachments": {},
   "cell_type": "markdown",
   "id": "2eba03af",
   "metadata": {},
   "source": [
    "**3- What is the Column that contains the most NULL Values?**"
   ]
  },
  {
   "cell_type": "code",
   "execution_count": 10,
   "id": "fc4c6713",
   "metadata": {},
   "outputs": [
    {
     "name": "stdout",
     "output_type": "stream",
     "text": [
      "The Column that Contains the most NULL Values is total_bedrooms\n"
     ]
    }
   ],
   "source": [
    "print(\"The Column that Contains the most NULL Values is total_bedrooms\")"
   ]
  },
  {
   "attachments": {},
   "cell_type": "markdown",
   "id": "0603f1a4",
   "metadata": {},
   "source": [
    "**4- What is the Average number of total rooms and total bedrooms?**"
   ]
  },
  {
   "cell_type": "code",
   "execution_count": 11,
   "id": "0074037d",
   "metadata": {},
   "outputs": [],
   "source": [
    "avgOfTotalRooms = housing_df['total_rooms'].mean()\n",
    "avgOfTotalBedrooms = housing_df['total_bedrooms'].mean()"
   ]
  },
  {
   "cell_type": "code",
   "execution_count": 12,
   "id": "ab774c17",
   "metadata": {},
   "outputs": [
    {
     "name": "stdout",
     "output_type": "stream",
     "text": [
      "The Average of total Rooms = 2635.7630813953488\n",
      "The Average of total Bedrooms = 539.9201040741211\n"
     ]
    }
   ],
   "source": [
    "print(\"The Average of total Rooms =\" , avgOfTotalRooms)\n",
    "print(\"The Average of total Bedrooms =\" , avgOfTotalBedrooms)"
   ]
  },
  {
   "attachments": {},
   "cell_type": "markdown",
   "id": "c446e75f",
   "metadata": {},
   "source": [
    "**5- What are the Different Ocean Proximity Categories that we have ?**"
   ]
  },
  {
   "cell_type": "code",
   "execution_count": 13,
   "id": "54a38d79",
   "metadata": {},
   "outputs": [],
   "source": [
    "oceanProximityCategories = housing_df['ocean_proximity'].value_counts()"
   ]
  },
  {
   "cell_type": "code",
   "execution_count": 14,
   "id": "b413a2ba",
   "metadata": {},
   "outputs": [
    {
     "data": {
      "text/plain": [
       "<1H OCEAN     9136\n",
       "INLAND        6551\n",
       "NEAR OCEAN    2658\n",
       "NEAR BAY      2290\n",
       "ISLAND           5\n",
       "Name: ocean_proximity, dtype: int64"
      ]
     },
     "execution_count": 14,
     "metadata": {},
     "output_type": "execute_result"
    }
   ],
   "source": [
    "oceanProximityCategories"
   ]
  },
  {
   "attachments": {},
   "cell_type": "markdown",
   "id": "0cc09c9c",
   "metadata": {},
   "source": [
    "**6- What is The most Frequent Ocean Proximity ?**"
   ]
  },
  {
   "cell_type": "code",
   "execution_count": 15,
   "id": "78eaf7c4",
   "metadata": {},
   "outputs": [],
   "source": [
    "mostFreq =  housing_df['ocean_proximity'].max()"
   ]
  },
  {
   "cell_type": "code",
   "execution_count": 16,
   "id": "543be558",
   "metadata": {},
   "outputs": [
    {
     "data": {
      "text/plain": [
       "'NEAR OCEAN'"
      ]
     },
     "execution_count": 16,
     "metadata": {},
     "output_type": "execute_result"
    }
   ],
   "source": [
    "mostFreq"
   ]
  },
  {
   "attachments": {},
   "cell_type": "markdown",
   "id": "83187868",
   "metadata": {},
   "source": [
    "**7- What is The Average median income overall ?** "
   ]
  },
  {
   "cell_type": "code",
   "execution_count": 17,
   "id": "9115cca8",
   "metadata": {},
   "outputs": [],
   "source": [
    "avgMedian = housing_df['median_income'].mean()"
   ]
  },
  {
   "cell_type": "code",
   "execution_count": 18,
   "id": "cdd3def0",
   "metadata": {},
   "outputs": [
    {
     "name": "stdout",
     "output_type": "stream",
     "text": [
      "The Average Median income = 3.9394028646562207\n"
     ]
    }
   ],
   "source": [
    "print(\"The Average Median income =\" , avgMedian)"
   ]
  },
  {
   "attachments": {},
   "cell_type": "markdown",
   "id": "568b7514",
   "metadata": {},
   "source": [
    "**8- What is the average population for houses in a block where the median income is more than $80,0000?**"
   ]
  },
  {
   "cell_type": "code",
   "execution_count": 19,
   "id": "c0aede9c",
   "metadata": {},
   "outputs": [
    {
     "data": {
      "text/plain": [
       "1260.6320610687023"
      ]
     },
     "execution_count": 19,
     "metadata": {},
     "output_type": "execute_result"
    }
   ],
   "source": [
    "housing_df.loc[housing_df['median_income'] >= 8.0000, 'population'].mean()"
   ]
  },
  {
   "attachments": {},
   "cell_type": "markdown",
   "id": "f58bb924",
   "metadata": {},
   "source": [
    "**9- What is the maximum and minimum number of total rooms for houses that are located inland?**"
   ]
  },
  {
   "cell_type": "code",
   "execution_count": 20,
   "id": "b1d7d656",
   "metadata": {},
   "outputs": [],
   "source": [
    "dataFrame = housing_df.loc[housing_df['ocean_proximity'] == 'INLAND']"
   ]
  },
  {
   "cell_type": "code",
   "execution_count": 21,
   "id": "5645ab2f",
   "metadata": {},
   "outputs": [
    {
     "data": {
      "text/plain": [
       "39320"
      ]
     },
     "execution_count": 21,
     "metadata": {},
     "output_type": "execute_result"
    }
   ],
   "source": [
    "dataFrame['total_rooms'].max()"
   ]
  },
  {
   "cell_type": "code",
   "execution_count": 22,
   "id": "5b60d131",
   "metadata": {},
   "outputs": [
    {
     "data": {
      "text/plain": [
       "2"
      ]
     },
     "execution_count": 22,
     "metadata": {},
     "output_type": "execute_result"
    }
   ],
   "source": [
    "dataFrame['total_rooms'].min()"
   ]
  },
  {
   "attachments": {},
   "cell_type": "markdown",
   "id": "ae025e9e",
   "metadata": {},
   "source": [
    "**10- True or False:**"
   ]
  },
  {
   "cell_type": "code",
   "execution_count": 23,
   "id": "3cfbc246",
   "metadata": {},
   "outputs": [
    {
     "data": {
      "text/plain": [
       "ocean_proximity\n",
       "<1H OCEAN     500001\n",
       "INLAND        500001\n",
       "ISLAND        450000\n",
       "NEAR BAY      500001\n",
       "NEAR OCEAN    500001\n",
       "Name: median_house_value, dtype: int64"
      ]
     },
     "execution_count": 23,
     "metadata": {},
     "output_type": "execute_result"
    }
   ],
   "source": [
    "#1-Houses that are located near bay have the highest average median house value. (Hint: Use `groupby()`)\n",
    "housing_df.groupby(['ocean_proximity'])['median_house_value'].max()"
   ]
  },
  {
   "cell_type": "code",
   "execution_count": 24,
   "id": "e87c649e",
   "metadata": {
    "slideshow": {
     "slide_type": "-"
    }
   },
   "outputs": [
    {
     "data": {
      "text/plain": [
       "ocean_proximity\n",
       "<1H OCEAN     29.356692\n",
       "INLAND        24.243496\n",
       "ISLAND        42.400000\n",
       "NEAR BAY      37.666960\n",
       "NEAR OCEAN    29.365725\n",
       "Name: housing_median_age, dtype: float64"
      ]
     },
     "execution_count": 24,
     "metadata": {},
     "output_type": "execute_result"
    }
   ],
   "source": [
    "#The average housing median age for houses located near ocean  is more than houses located inland\n",
    "housing_df.groupby(['ocean_proximity'])['housing_median_age'].mean()"
   ]
  },
  {
   "attachments": {},
   "cell_type": "markdown",
   "id": "d5cd4824",
   "metadata": {},
   "source": [
    "*then both questions are True*"
   ]
  },
  {
   "attachments": {},
   "cell_type": "markdown",
   "id": "4d12f76b",
   "metadata": {},
   "source": [
    "# Preprocessing Data #"
   ]
  },
  {
   "attachments": {},
   "cell_type": "markdown",
   "id": "56a16ccd",
   "metadata": {},
   "source": [
    "**1- Search for any missing Values**"
   ]
  },
  {
   "cell_type": "code",
   "execution_count": 39,
   "id": "a0d62da1",
   "metadata": {},
   "outputs": [
    {
     "data": {
      "text/plain": [
       "longitude                0\n",
       "latitude                 0\n",
       "housing_median_age     258\n",
       "total_rooms              0\n",
       "total_bedrooms        4882\n",
       "population              44\n",
       "households            1305\n",
       "median_income         2767\n",
       "median_house_value       0\n",
       "ocean_proximity          0\n",
       "gender                4020\n",
       "dtype: int64"
      ]
     },
     "execution_count": 39,
     "metadata": {},
     "output_type": "execute_result"
    }
   ],
   "source": [
    "missing_values = housing_df.isnull().sum()\n",
    "missing_values"
   ]
  },
  {
   "cell_type": "code",
   "execution_count": 40,
   "id": "28d15e63",
   "metadata": {},
   "outputs": [
    {
     "data": {
      "text/plain": [
       "258"
      ]
     },
     "execution_count": 40,
     "metadata": {},
     "output_type": "execute_result"
    }
   ],
   "source": [
    "missing_values['housing_median_age']"
   ]
  },
  {
   "attachments": {},
   "cell_type": "markdown",
   "id": "aa7ecfc4",
   "metadata": {},
   "source": [
    "**2- Fill the missing values in each column with its mean or median**"
   ]
  },
  {
   "cell_type": "code",
   "execution_count": 45,
   "id": "c7bfb5b9",
   "metadata": {},
   "outputs": [
    {
     "data": {
      "text/plain": [
       "<seaborn.axisgrid.FacetGrid at 0x223606ffe80>"
      ]
     },
     "execution_count": 45,
     "metadata": {},
     "output_type": "execute_result"
    },
    {
     "data": {
      "image/png": "[encoded data removed]",
      "text/plain": [
       "<Figure size 360x360 with 1 Axes>"
      ]
     },
     "metadata": {
      "needs_background": "light"
     },
     "output_type": "display_data"
    }
   ],
   "source": [
    "sns.set_palette(\"husl\")\n",
    "sns.displot(data=housing_df , x=\"housing_median_age\", kind=\"kde\")"
   ]
  },
  {
   "cell_type": "code",
   "execution_count": 46,
   "id": "a929045b",
   "metadata": {},
   "outputs": [],
   "source": [
    "housing_df[\"housing_median_age\"].fillna(housing_df[\"housing_median_age\"].mean() , inplace = True)"
   ]
  },
  {
   "cell_type": "code",
   "execution_count": 47,
   "id": "e2ffc1f6",
   "metadata": {},
   "outputs": [
    {
     "data": {
      "text/plain": [
       "0"
      ]
     },
     "execution_count": 47,
     "metadata": {},
     "output_type": "execute_result"
    }
   ],
   "source": [
    "housing_df[\"housing_median_age\"].isnull().sum()"
   ]
  },
  {
   "cell_type": "code",
   "execution_count": 48,
   "id": "12c8921d",
   "metadata": {},
   "outputs": [
    {
     "data": {
      "text/plain": [
       "<seaborn.axisgrid.FacetGrid at 0x223607720d0>"
      ]
     },
     "execution_count": 48,
     "metadata": {},
     "output_type": "execute_result"
    },
    {
     "data": {
      "image/png": "[encoded data removed]",
      "text/plain": [
       "<Figure size 360x360 with 1 Axes>"
      ]
     },
     "metadata": {
      "needs_background": "light"
     },
     "output_type": "display_data"
    }
   ],
   "source": [
    "sns.color_palette()\n",
    "sns.displot(data = housing_df , x = \"housing_median_age\" , kind = \"kde\")"
   ]
  },
  {
   "cell_type": "code",
   "execution_count": 50,
   "id": "f8e82f7c",
   "metadata": {},
   "outputs": [
    {
     "data": {
      "text/plain": [
       "<seaborn.axisgrid.FacetGrid at 0x223606e0130>"
      ]
     },
     "execution_count": 50,
     "metadata": {},
     "output_type": "execute_result"
    },
    {
     "data": {
      "image/png": "[encoded data removed]",
      "text/plain": [
       "<Figure size 360x360 with 1 Axes>"
      ]
     },
     "metadata": {
      "needs_background": "light"
     },
     "output_type": "display_data"
    }
   ],
   "source": [
    "sns.set_palette(\"husl\")\n",
    "sns.displot(data=housing_df , x = \"total_bedrooms\", kind=\"kde\")"
   ]
  },
  {
   "cell_type": "code",
   "execution_count": 65,
   "id": "e49722a9",
   "metadata": {},
   "outputs": [],
   "source": [
    "housing_df[\"total_bedrooms\"].fillna(housing_df[\"total_bedrooms\"].median() , inplace = True)"
   ]
  },
  {
   "cell_type": "code",
   "execution_count": 66,
   "id": "8e3d4b13",
   "metadata": {},
   "outputs": [
    {
     "data": {
      "text/plain": [
       "0"
      ]
     },
     "execution_count": 66,
     "metadata": {},
     "output_type": "execute_result"
    }
   ],
   "source": [
    "housing_df[\"total_bedrooms\"].isnull().sum()"
   ]
  },
  {
   "cell_type": "code",
   "execution_count": 67,
   "id": "fe4a2c40",
   "metadata": {},
   "outputs": [
    {
     "data": {
      "text/plain": [
       "<seaborn.axisgrid.FacetGrid at 0x2236205a430>"
      ]
     },
     "execution_count": 67,
     "metadata": {},
     "output_type": "execute_result"
    },
    {
     "data": {
      "image/png": "[encoded data removed]",
      "text/plain": [
       "<Figure size 360x360 with 1 Axes>"
      ]
     },
     "metadata": {
      "needs_background": "light"
     },
     "output_type": "display_data"
    }
   ],
   "source": [
    "sns.set_palette(\"husl\")\n",
    "sns.displot(data=housing_df , x = \"total_bedrooms\", kind=\"kde\")"
   ]
  },
  {
   "cell_type": "code",
   "execution_count": 60,
   "id": "4af908ea",
   "metadata": {},
   "outputs": [
    {
     "data": {
      "text/plain": [
       "<seaborn.axisgrid.FacetGrid at 0x2236081ef10>"
      ]
     },
     "execution_count": 60,
     "metadata": {},
     "output_type": "execute_result"
    },
    {
     "data": {
      "image/png": "[encoded data removed]",
      "text/plain": [
       "<Figure size 360x360 with 1 Axes>"
      ]
     },
     "metadata": {
      "needs_background": "light"
     },
     "output_type": "display_data"
    }
   ],
   "source": [
    "#median_income \n",
    "sns.set_palette(\"husl\")\n",
    "sns.displot(data=housing_df , x = \"median_income\", kind=\"kde\")"
   ]
  },
  {
   "cell_type": "code",
   "execution_count": 61,
   "id": "d04a82eb",
   "metadata": {},
   "outputs": [],
   "source": [
    "housing_df[\"median_income\"].fillna(housing_df[\"median_income\"].mean() , inplace = True)"
   ]
  },
  {
   "cell_type": "code",
   "execution_count": 63,
   "id": "77aba95e",
   "metadata": {},
   "outputs": [
    {
     "data": {
      "text/plain": [
       "0"
      ]
     },
     "execution_count": 63,
     "metadata": {},
     "output_type": "execute_result"
    }
   ],
   "source": [
    "housing_df[\"median_income\"].isnull().sum()"
   ]
  },
  {
   "cell_type": "code",
   "execution_count": 64,
   "id": "fcd0dd34",
   "metadata": {},
   "outputs": [
    {
     "data": {
      "text/plain": [
       "<seaborn.axisgrid.FacetGrid at 0x223607cdcd0>"
      ]
     },
     "execution_count": 64,
     "metadata": {},
     "output_type": "execute_result"
    },
    {
     "data": {
      "image/png": "[encoded data removed]",
      "text/plain": [
       "<Figure size 360x360 with 1 Axes>"
      ]
     },
     "metadata": {
      "needs_background": "light"
     },
     "output_type": "display_data"
    }
   ],
   "source": [
    "#median_income \n",
    "sns.set_palette(\"husl\")\n",
    "sns.displot(data=housing_df , x = \"median_income\", kind=\"kde\")"
   ]
  },
  {
   "cell_type": "code",
   "execution_count": 69,
   "id": "d3ff8f52",
   "metadata": {},
   "outputs": [
    {
     "data": {
      "text/plain": [
       "<AxesSubplot:xlabel='gender', ylabel='count'>"
      ]
     },
     "execution_count": 69,
     "metadata": {},
     "output_type": "execute_result"
    },
    {
     "data": {
      "image/png": "[encoded data removed]",
      "text/plain": [
       "<Figure size 432x288 with 1 Axes>"
      ]
     },
     "metadata": {
      "needs_background": "light"
     },
     "output_type": "display_data"
    }
   ],
   "source": [
    "sns.countplot(data=housing_df , x = \"gender\")"
   ]
  },
  {
   "cell_type": "code",
   "execution_count": 72,
   "id": "9027e1b9",
   "metadata": {},
   "outputs": [
    {
     "data": {
      "text/plain": [
       "'female'"
      ]
     },
     "execution_count": 72,
     "metadata": {},
     "output_type": "execute_result"
    }
   ],
   "source": [
    "housing_df[\"gender\"].mode()[0]"
   ]
  },
  {
   "cell_type": "code",
   "execution_count": 79,
   "id": "13e8dea6",
   "metadata": {},
   "outputs": [],
   "source": [
    "fill_list = ['male', 'female']\n",
    "housing_df[\"gender\"] = housing_df[\"gender\"].fillna(pd.Series(np.random.choice(fill_list , size = len(housing_df.index))))"
   ]
  },
  {
   "cell_type": "code",
   "execution_count": 80,
   "id": "abafefa7",
   "metadata": {},
   "outputs": [
    {
     "data": {
      "text/plain": [
       "<AxesSubplot:xlabel='gender', ylabel='count'>"
      ]
     },
     "execution_count": 80,
     "metadata": {},
     "output_type": "execute_result"
    },
    {
     "data": {
      "image/png": "[encoded data removed]",
      "text/plain": [
       "<Figure size 432x288 with 1 Axes>"
      ]
     },
     "metadata": {
      "needs_background": "light"
     },
     "output_type": "display_data"
    }
   ],
   "source": [
    "sns.countplot(data=housing_df, x=\"gender\")"
   ]
  },
  {
   "attachments": {},
   "cell_type": "markdown",
   "id": "930ce8cd",
   "metadata": {},
   "source": [
    "# Identifying and Handling Outliers #"
   ]
  },
  {
   "attachments": {},
   "cell_type": "markdown",
   "id": "481e4fae",
   "metadata": {},
   "source": [
    "**Use Boxblot to check outliers**"
   ]
  },
  {
   "cell_type": "code",
   "execution_count": 86,
   "id": "cab315ae",
   "metadata": {},
   "outputs": [
    {
     "data": {
      "image/png": "[encoded data removed]",
      "text/plain": [
       "<Figure size 432x288 with 1 Axes>"
      ]
     },
     "metadata": {
      "needs_background": "light"
     },
     "output_type": "display_data"
    },
    {
     "data": {
      "image/png": "[encoded data removed]",
      "text/plain": [
       "<Figure size 432x288 with 1 Axes>"
      ]
     },
     "metadata": {
      "needs_background": "light"
     },
     "output_type": "display_data"
    },
    {
     "data": {
      "image/png": "[encoded data removed]",
      "text/plain": [
       "<Figure size 432x288 with 1 Axes>"
      ]
     },
     "metadata": {
      "needs_background": "light"
     },
     "output_type": "display_data"
    },
    {
     "data": {
      "image/png": "[encoded data removed]",
      "text/plain": [
       "<Figure size 432x288 with 1 Axes>"
      ]
     },
     "metadata": {
      "needs_background": "light"
     },
     "output_type": "display_data"
    },
    {
     "data": {
      "image/png": "[encoded data removed]",
      "text/plain": [
       "<Figure size 432x288 with 1 Axes>"
      ]
     },
     "metadata": {
      "needs_background": "light"
     },
     "output_type": "display_data"
    },
    {
     "data": {
      "image/png": "[encoded data removed]",
      "text/plain": [
       "<Figure size 432x288 with 1 Axes>"
      ]
     },
     "metadata": {
      "needs_background": "light"
     },
     "output_type": "display_data"
    },
    {
     "data": {
      "image/png": "[encoded data removed]",
      "text/plain": [
       "<Figure size 432x288 with 1 Axes>"
      ]
     },
     "metadata": {
      "needs_background": "light"
     },
     "output_type": "display_data"
    },
    {
     "data": {
      "image/png": "[encoded data removed]",
      "text/plain": [
       "<Figure size 432x288 with 1 Axes>"
      ]
     },
     "metadata": {
      "needs_background": "light"
     },
     "output_type": "display_data"
    },
    {
     "data": {
      "image/png": "[encoded data removed]",
      "text/plain": [
       "<Figure size 432x288 with 1 Axes>"
      ]
     },
     "metadata": {
      "needs_background": "light"
     },
     "output_type": "display_data"
    },
    {
     "data": {
      "image/png": "[encoded data removed]",
      "text/plain": [
       "<Figure size 432x288 with 1 Axes>"
      ]
     },
     "metadata": {
      "needs_background": "light"
     },
     "output_type": "display_data"
    },
    {
     "data": {
      "image/png": "[encoded data removed]",
      "text/plain": [
       "<Figure size 432x288 with 1 Axes>"
      ]
     },
     "metadata": {
      "needs_background": "light"
     },
     "output_type": "display_data"
    },
    {
     "data": {
      "image/png": "[encoded data removed]",
      "text/plain": [
       "<Figure size 432x288 with 1 Axes>"
      ]
     },
     "metadata": {
      "needs_background": "light"
     },
     "output_type": "display_data"
    },
    {
     "data": {
      "image/png": "[encoded data removed]",
      "text/plain": [
       "<Figure size 432x288 with 1 Axes>"
      ]
     },
     "metadata": {
      "needs_background": "light"
     },
     "output_type": "display_data"
    },
    {
     "data": {
      "image/png": "[encoded data removed]",
      "text/plain": [
       "<Figure size 432x288 with 1 Axes>"
      ]
     },
     "metadata": {
      "needs_background": "light"
     },
     "output_type": "display_data"
    },
    {
     "data": {
      "image/png": "[encoded data removed]",
      "text/plain": [
       "<Figure size 432x288 with 1 Axes>"
      ]
     },
     "metadata": {
      "needs_background": "light"
     },
     "output_type": "display_data"
    },
    {
     "data": {
      "image/png": "[encoded data removed]",
      "text/plain": [
       "<Figure size 432x288 with 1 Axes>"
      ]
     },
     "metadata": {
      "needs_background": "light"
     },
     "output_type": "display_data"
    }
   ],
   "source": [
    "for col in housing_df.columns:\n",
    "    if housing_df[col].dtype != 'object':\n",
    "        bp = sns.boxplot(data = housing_df, x = col)\n",
    "        plt.show()\n",
    "        sp = sns.scatterplot(data = housing_df, x = col, y=housing_df[\"gender\"])\n",
    "        plt.show()"
   ]
  },
  {
   "cell_type": "code",
   "execution_count": 87,
   "id": "212113f1",
   "metadata": {},
   "outputs": [
    {
     "data": {
      "image/png": "[encoded data removed]",
      "text/plain": [
       "<Figure size 432x288 with 1 Axes>"
      ]
     },
     "metadata": {
      "needs_background": "light"
     },
     "output_type": "display_data"
    },
    {
     "data": {
      "image/png": "[encoded data removed]",
      "text/plain": [
       "<Figure size 432x288 with 1 Axes>"
      ]
     },
     "metadata": {
      "needs_background": "light"
     },
     "output_type": "display_data"
    }
   ],
   "source": [
    "sns.set_palette(\"Set3\")\n",
    "bp = sns.boxplot(data = housing_df, x = \"population\")\n",
    "plt.show()\n",
    "sp = sns.scatterplot(data = housing_df, x = \"population\", y=housing_df[\"gender\"])\n",
    "plt.show()"
   ]
  },
  {
   "cell_type": "code",
   "execution_count": 94,
   "id": "b6609731",
   "metadata": {},
   "outputs": [],
   "source": [
    "housing_df.drop(housing_df[housing_df['population']>10000].index, axis = 0, inplace =True)"
   ]
  },
  {
   "cell_type": "code",
   "execution_count": 95,
   "id": "b7b91b90",
   "metadata": {},
   "outputs": [
    {
     "data": {
      "image/png": "[encoded data removed]",
      "text/plain": [
       "<Figure size 432x288 with 1 Axes>"
      ]
     },
     "metadata": {
      "needs_background": "light"
     },
     "output_type": "display_data"
    },
    {
     "data": {
      "image/png": "[encoded data removed]",
      "text/plain": [
       "<Figure size 432x288 with 1 Axes>"
      ]
     },
     "metadata": {
      "needs_background": "light"
     },
     "output_type": "display_data"
    }
   ],
   "source": [
    "sns.set_palette(\"Set3\")\n",
    "bp = sns.boxplot(data = housing_df, x = \"population\")\n",
    "plt.show()\n",
    "sp = sns.scatterplot(data = housing_df, x = \"population\", y=housing_df[\"gender\"])\n",
    "plt.show()"
   ]
  },
  {
   "cell_type": "code",
   "execution_count": 96,
   "id": "bfb7367a",
   "metadata": {},
   "outputs": [
    {
     "data": {
      "image/png": "[encoded data removed]",
      "text/plain": [
       "<Figure size 432x288 with 1 Axes>"
      ]
     },
     "metadata": {
      "needs_background": "light"
     },
     "output_type": "display_data"
    },
    {
     "data": {
      "image/png": "[encoded data removed]",
      "text/plain": [
       "<Figure size 432x288 with 1 Axes>"
      ]
     },
     "metadata": {
      "needs_background": "light"
     },
     "output_type": "display_data"
    }
   ],
   "source": [
    "sns.set_palette(\"Set3\")\n",
    "bp = sns.boxplot(data = housing_df, x = \"total_rooms\")\n",
    "plt.show()\n",
    "sp = sns.scatterplot(data = housing_df, x = \"total_rooms\", y=housing_df[\"gender\"])\n",
    "plt.show()"
   ]
  },
  {
   "cell_type": "code",
   "execution_count": 97,
   "id": "29a3c6cc",
   "metadata": {},
   "outputs": [],
   "source": [
    "housing_df.drop(housing_df[housing_df['total_rooms']>20000].index, axis = 0, inplace =True)"
   ]
  },
  {
   "cell_type": "code",
   "execution_count": 98,
   "id": "9f23c660",
   "metadata": {},
   "outputs": [
    {
     "data": {
      "image/png": "[encoded data removed]",
      "text/plain": [
       "<Figure size 432x288 with 1 Axes>"
      ]
     },
     "metadata": {
      "needs_background": "light"
     },
     "output_type": "display_data"
    },
    {
     "data": {
      "image/png": "[encoded data removed]",
      "text/plain": [
       "<Figure size 432x288 with 1 Axes>"
      ]
     },
     "metadata": {
      "needs_background": "light"
     },
     "output_type": "display_data"
    }
   ],
   "source": [
    "sns.set_palette(\"Set3\")\n",
    "bp = sns.boxplot(data = housing_df, x = \"total_rooms\")\n",
    "plt.show()\n",
    "sp = sns.scatterplot(data = housing_df, x = \"total_rooms\", y=housing_df[\"gender\"])\n",
    "plt.show()"
   ]
  },
  {
   "attachments": {},
   "cell_type": "markdown",
   "id": "1b1ad20c",
   "metadata": {},
   "source": [
    "# Scale Data using Min-Max Scaler #"
   ]
  },
  {
   "cell_type": "code",
   "execution_count": 112,
   "id": "3b6111a4",
   "metadata": {},
   "outputs": [],
   "source": [
    "# generate 1000 out_df points randomly drawn from an exponential distribution\n",
    "original_housing_df = np.random.exponential(size = 1000).reshape(-1, 1)\n",
    "\n",
    "scaler = MinMaxScaler()\n",
    "#scale the out_df between 0 and 1\n",
    "scaled_housing_df = scaler.fit_transform(original_housing_df)"
   ]
  },
  {
   "cell_type": "code",
   "execution_count": 113,
   "id": "c47484d6",
   "metadata": {},
   "outputs": [
    {
     "name": "stderr",
     "output_type": "stream",
     "text": [
      "C:\\ProgramData\\Anaconda3\\lib\\site-packages\\seaborn\\distributions.py:2619: FutureWarning: `distplot` is a deprecated function and will be removed in a future version. Please adapt your code to use either `displot` (a figure-level function with similar flexibility) or `histplot` (an axes-level function for histograms).\n",
      "  warnings.warn(msg, FutureWarning)\n",
      "C:\\ProgramData\\Anaconda3\\lib\\site-packages\\seaborn\\distributions.py:2619: FutureWarning: `distplot` is a deprecated function and will be removed in a future version. Please adapt your code to use either `displot` (a figure-level function with similar flexibility) or `histplot` (an axes-level function for histograms).\n",
      "  warnings.warn(msg, FutureWarning)\n"
     ]
    },
    {
     "data": {
      "text/plain": [
       "Text(0.5, 1.0, 'Scaled housing_df')"
      ]
     },
     "execution_count": 113,
     "metadata": {},
     "output_type": "execute_result"
    },
    {
     "data": {
      "image/png": "[encoded data removed]",
      "text/plain": [
       "<Figure size 432x288 with 2 Axes>"
      ]
     },
     "metadata": {
      "needs_background": "light"
     },
     "output_type": "display_data"
    }
   ],
   "source": [
    "fig, ax=plt.subplots(1,2)\n",
    "sns.distplot(original_housing_df, ax=ax[0])\n",
    "ax[0].set_title(\"Original housing_df\")\n",
    "sns.distplot(scaled_housing_df, ax=ax[1])\n",
    "ax[1].set_title(\"Scaled housing_df\")"
   ]
  },
  {
   "attachments": {},
   "cell_type": "markdown",
   "id": "8b89efa5",
   "metadata": {},
   "source": [
    "# Remove Duplicates #"
   ]
  },
  {
   "cell_type": "code",
   "execution_count": 114,
   "id": "3e455023",
   "metadata": {},
   "outputs": [
    {
     "data": {
      "text/html": [
       "<div>\n",
       "<style scoped>\n",
       "    .dataframe tbody tr th:only-of-type {\n",
       "        vertical-align: middle;\n",
       "    }\n",
       "\n",
       "    .dataframe tbody tr th {\n",
       "        vertical-align: top;\n",
       "    }\n",
       "\n",
       "    .dataframe thead th {\n",
       "        text-align: right;\n",
       "    }\n",
       "</style>\n",
       "<table border=\"1\" class=\"dataframe\">\n",
       "  <thead>\n",
       "    <tr style=\"text-align: right;\">\n",
       "      <th></th>\n",
       "      <th>longitude</th>\n",
       "      <th>latitude</th>\n",
       "      <th>housing_median_age</th>\n",
       "      <th>total_rooms</th>\n",
       "      <th>total_bedrooms</th>\n",
       "      <th>population</th>\n",
       "      <th>households</th>\n",
       "      <th>median_income</th>\n",
       "      <th>median_house_value</th>\n",
       "      <th>ocean_proximity</th>\n",
       "      <th>gender</th>\n",
       "    </tr>\n",
       "  </thead>\n",
       "  <tbody>\n",
       "    <tr>\n",
       "      <th>59</th>\n",
       "      <td>-122.29</td>\n",
       "      <td>37.82</td>\n",
       "      <td>2.000000</td>\n",
       "      <td>158</td>\n",
       "      <td>43.000000</td>\n",
       "      <td>94.0</td>\n",
       "      <td>57</td>\n",
       "      <td>2.5625</td>\n",
       "      <td>60000</td>\n",
       "      <td>NEAR BAY</td>\n",
       "      <td>female</td>\n",
       "    </tr>\n",
       "    <tr>\n",
       "      <th>61</th>\n",
       "      <td>-122.29</td>\n",
       "      <td>37.82</td>\n",
       "      <td>49.000000</td>\n",
       "      <td>135</td>\n",
       "      <td>29.000000</td>\n",
       "      <td>86.0</td>\n",
       "      <td>23</td>\n",
       "      <td>6.1183</td>\n",
       "      <td>75000</td>\n",
       "      <td>NEAR BAY</td>\n",
       "      <td>female</td>\n",
       "    </tr>\n",
       "    <tr>\n",
       "      <th>73</th>\n",
       "      <td>-122.29</td>\n",
       "      <td>37.81</td>\n",
       "      <td>46.000000</td>\n",
       "      <td>12</td>\n",
       "      <td>4.000000</td>\n",
       "      <td>18.0</td>\n",
       "      <td>7</td>\n",
       "      <td>0.4999</td>\n",
       "      <td>67500</td>\n",
       "      <td>NEAR BAY</td>\n",
       "      <td>female</td>\n",
       "    </tr>\n",
       "    <tr>\n",
       "      <th>81</th>\n",
       "      <td>-122.27</td>\n",
       "      <td>37.81</td>\n",
       "      <td>52.000000</td>\n",
       "      <td>210</td>\n",
       "      <td>56.000000</td>\n",
       "      <td>183.0</td>\n",
       "      <td>56</td>\n",
       "      <td>1.1667</td>\n",
       "      <td>112500</td>\n",
       "      <td>NEAR BAY</td>\n",
       "      <td>female</td>\n",
       "    </tr>\n",
       "    <tr>\n",
       "      <th>82</th>\n",
       "      <td>-122.28</td>\n",
       "      <td>37.81</td>\n",
       "      <td>52.000000</td>\n",
       "      <td>340</td>\n",
       "      <td>97.000000</td>\n",
       "      <td>200.0</td>\n",
       "      <td>87</td>\n",
       "      <td>1.5208</td>\n",
       "      <td>112500</td>\n",
       "      <td>NEAR BAY</td>\n",
       "      <td>male</td>\n",
       "    </tr>\n",
       "    <tr>\n",
       "      <th>...</th>\n",
       "      <td>...</td>\n",
       "      <td>...</td>\n",
       "      <td>...</td>\n",
       "      <td>...</td>\n",
       "      <td>...</td>\n",
       "      <td>...</td>\n",
       "      <td>...</td>\n",
       "      <td>...</td>\n",
       "      <td>...</td>\n",
       "      <td>...</td>\n",
       "      <td>...</td>\n",
       "    </tr>\n",
       "    <tr>\n",
       "      <th>20578</th>\n",
       "      <td>-121.81</td>\n",
       "      <td>38.84</td>\n",
       "      <td>28.676283</td>\n",
       "      <td>352</td>\n",
       "      <td>539.920104</td>\n",
       "      <td>238.0</td>\n",
       "      <td>NaN</td>\n",
       "      <td>2.8542</td>\n",
       "      <td>275000</td>\n",
       "      <td>INLAND</td>\n",
       "      <td>male</td>\n",
       "    </tr>\n",
       "    <tr>\n",
       "      <th>20583</th>\n",
       "      <td>-122.00</td>\n",
       "      <td>38.73</td>\n",
       "      <td>28.676283</td>\n",
       "      <td>371</td>\n",
       "      <td>539.920104</td>\n",
       "      <td>208.0</td>\n",
       "      <td>NaN</td>\n",
       "      <td>3.8750</td>\n",
       "      <td>137500</td>\n",
       "      <td>INLAND</td>\n",
       "      <td>female</td>\n",
       "    </tr>\n",
       "    <tr>\n",
       "      <th>20620</th>\n",
       "      <td>-121.48</td>\n",
       "      <td>39.05</td>\n",
       "      <td>28.676283</td>\n",
       "      <td>198</td>\n",
       "      <td>539.920104</td>\n",
       "      <td>151.0</td>\n",
       "      <td>NaN</td>\n",
       "      <td>4.5625</td>\n",
       "      <td>100000</td>\n",
       "      <td>INLAND</td>\n",
       "      <td>male</td>\n",
       "    </tr>\n",
       "    <tr>\n",
       "      <th>20625</th>\n",
       "      <td>-121.52</td>\n",
       "      <td>39.12</td>\n",
       "      <td>28.676283</td>\n",
       "      <td>102</td>\n",
       "      <td>539.920104</td>\n",
       "      <td>29.0</td>\n",
       "      <td>NaN</td>\n",
       "      <td>4.1250</td>\n",
       "      <td>72000</td>\n",
       "      <td>INLAND</td>\n",
       "      <td>female</td>\n",
       "    </tr>\n",
       "    <tr>\n",
       "      <th>20627</th>\n",
       "      <td>-121.32</td>\n",
       "      <td>39.13</td>\n",
       "      <td>28.676283</td>\n",
       "      <td>358</td>\n",
       "      <td>539.920104</td>\n",
       "      <td>169.0</td>\n",
       "      <td>NaN</td>\n",
       "      <td>3.0000</td>\n",
       "      <td>162500</td>\n",
       "      <td>INLAND</td>\n",
       "      <td>female</td>\n",
       "    </tr>\n",
       "  </tbody>\n",
       "</table>\n",
       "<p>569 rows × 11 columns</p>\n",
       "</div>"
      ],
      "text/plain": [
       "       longitude  latitude  housing_median_age  total_rooms  total_bedrooms  \\\n",
       "59       -122.29     37.82            2.000000          158       43.000000   \n",
       "61       -122.29     37.82           49.000000          135       29.000000   \n",
       "73       -122.29     37.81           46.000000           12        4.000000   \n",
       "81       -122.27     37.81           52.000000          210       56.000000   \n",
       "82       -122.28     37.81           52.000000          340       97.000000   \n",
       "...          ...       ...                 ...          ...             ...   \n",
       "20578    -121.81     38.84           28.676283          352      539.920104   \n",
       "20583    -122.00     38.73           28.676283          371      539.920104   \n",
       "20620    -121.48     39.05           28.676283          198      539.920104   \n",
       "20625    -121.52     39.12           28.676283          102      539.920104   \n",
       "20627    -121.32     39.13           28.676283          358      539.920104   \n",
       "\n",
       "       population households  median_income  median_house_value  \\\n",
       "59           94.0         57         2.5625               60000   \n",
       "61           86.0         23         6.1183               75000   \n",
       "73           18.0          7         0.4999               67500   \n",
       "81          183.0         56         1.1667              112500   \n",
       "82          200.0         87         1.5208              112500   \n",
       "...           ...        ...            ...                 ...   \n",
       "20578       238.0        NaN         2.8542              275000   \n",
       "20583       208.0        NaN         3.8750              137500   \n",
       "20620       151.0        NaN         4.5625              100000   \n",
       "20625        29.0        NaN         4.1250               72000   \n",
       "20627       169.0        NaN         3.0000              162500   \n",
       "\n",
       "      ocean_proximity  gender  \n",
       "59           NEAR BAY  female  \n",
       "61           NEAR BAY  female  \n",
       "73           NEAR BAY  female  \n",
       "81           NEAR BAY  female  \n",
       "82           NEAR BAY    male  \n",
       "...               ...     ...  \n",
       "20578          INLAND    male  \n",
       "20583          INLAND  female  \n",
       "20620          INLAND    male  \n",
       "20625          INLAND  female  \n",
       "20627          INLAND  female  \n",
       "\n",
       "[569 rows x 11 columns]"
      ]
     },
     "execution_count": 114,
     "metadata": {},
     "output_type": "execute_result"
    }
   ],
   "source": [
    "housing_df.drop_duplicates()"
   ]
  }
 ],
 "metadata": {
  "kernelspec": {
   "display_name": "Python 3 (ipykernel)",
   "language": "python",
   "name": "python3"
  },
  "language_info": {
   "codemirror_mode": {
    "name": "ipython",
    "version": 3
   },
   "file_extension": ".py",
   "mimetype": "text/x-python",
   "name": "python",
   "nbconvert_exporter": "python",
   "pygments_lexer": "ipython3",
   "version": "3.9.7"
  }
 },
 "nbformat": 4,
 "nbformat_minor": 5
}
